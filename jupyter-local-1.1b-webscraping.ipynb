{
 "cells": [
  {
   "cell_type": "markdown",
   "metadata": {},
   "source": [
    "<p style=\"text-align:center\">\n",
    "    <a href=\"https://skills.network\" target=\"_blank\">\n",
    "    <img src=\"https://cf-courses-data.s3.us.cloud-object-storage.appdomain.cloud/assets/logos/SN_web_lightmode.png\" width=\"200\" alt=\"Skills Network Logo\">\n",
    "    </a>\n",
    "</p>\n"
   ]
  },
  {
   "cell_type": "markdown",
   "metadata": {},
   "source": [
    "# **Space X  Falcon 9 First Stage Landing Prediction**\n"
   ]
  },
  {
   "cell_type": "markdown",
   "metadata": {},
   "source": [
    "## Web scraping Falcon 9 and Falcon Heavy Launches Records from Wikipedia\n"
   ]
  },
  {
   "cell_type": "markdown",
   "metadata": {},
   "source": [
    "Estimated time needed: **40** minutes\n"
   ]
  },
  {
   "cell_type": "markdown",
   "metadata": {},
   "source": [
    "In this lab, you will be performing web scraping to collect Falcon 9 historical launch records from a Wikipedia page titled `List of Falcon 9 and Falcon Heavy launches`\n",
    "\n",
    "https://en.wikipedia.org/wiki/List_of_Falcon_9_and_Falcon_Heavy_launches\n"
   ]
  },
  {
   "cell_type": "markdown",
   "metadata": {},
   "source": [
    "![](https://cf-courses-data.s3.us.cloud-object-storage.appdomain.cloud/IBM-DS0321EN-SkillsNetwork/labs/module_1_L2/images/Falcon9_rocket_family.svg)\n"
   ]
  },
  {
   "cell_type": "markdown",
   "metadata": {},
   "source": [
    "Falcon 9 first stage will land successfully\n"
   ]
  },
  {
   "cell_type": "markdown",
   "metadata": {},
   "source": [
    "![](https://cf-courses-data.s3.us.cloud-object-storage.appdomain.cloud/IBMDeveloperSkillsNetwork-DS0701EN-SkillsNetwork/api/Images/landing_1.gif)\n"
   ]
  },
  {
   "cell_type": "markdown",
   "metadata": {},
   "source": [
    "Several examples of an unsuccessful landing are shown here:\n"
   ]
  },
  {
   "cell_type": "markdown",
   "metadata": {},
   "source": [
    "![](https://cf-courses-data.s3.us.cloud-object-storage.appdomain.cloud/IBMDeveloperSkillsNetwork-DS0701EN-SkillsNetwork/api/Images/crash.gif)\n"
   ]
  },
  {
   "cell_type": "markdown",
   "metadata": {},
   "source": [
    "More specifically, the launch records are stored in a HTML table shown below:\n"
   ]
  },
  {
   "cell_type": "markdown",
   "metadata": {},
   "source": [
    "![](https://cf-courses-data.s3.us.cloud-object-storage.appdomain.cloud/IBM-DS0321EN-SkillsNetwork/labs/module_1_L2/images/falcon9-launches-wiki.png)\n"
   ]
  },
  {
   "cell_type": "markdown",
   "metadata": {},
   "source": [
    "  ## Objectives\n",
    "Web scrap Falcon 9 launch records with `BeautifulSoup`: \n",
    "- Extract a Falcon 9 launch records HTML table from Wikipedia\n",
    "- Parse the table and convert it into a Pandas data frame\n"
   ]
  },
  {
   "cell_type": "markdown",
   "metadata": {},
   "source": [
    "First let's import required packages for this lab\n"
   ]
  },
  {
   "cell_type": "code",
   "execution_count": 1,
   "metadata": {},
   "outputs": [
    {
     "name": "stdout",
     "output_type": "stream",
     "text": [
      "Requirement already satisfied: beautifulsoup4 in c:\\users\\damia\\anaconda3\\envs\\rp_env\\lib\\site-packages (4.12.2)\n",
      "Requirement already satisfied: soupsieve>1.2 in c:\\users\\damia\\anaconda3\\envs\\rp_env\\lib\\site-packages (from beautifulsoup4) (2.5)\n",
      "Requirement already satisfied: requests in c:\\users\\damia\\anaconda3\\envs\\rp_env\\lib\\site-packages (2.32.2)\n",
      "Requirement already satisfied: charset-normalizer<4,>=2 in c:\\users\\damia\\anaconda3\\envs\\rp_env\\lib\\site-packages (from requests) (2.0.4)\n",
      "Requirement already satisfied: idna<4,>=2.5 in c:\\users\\damia\\anaconda3\\envs\\rp_env\\lib\\site-packages (from requests) (3.4)\n",
      "Requirement already satisfied: urllib3<3,>=1.21.1 in c:\\users\\damia\\anaconda3\\envs\\rp_env\\lib\\site-packages (from requests) (2.1.0)\n",
      "Requirement already satisfied: certifi>=2017.4.17 in c:\\users\\damia\\anaconda3\\envs\\rp_env\\lib\\site-packages (from requests) (2025.1.31)\n"
     ]
    }
   ],
   "source": [
    "!pip3 install beautifulsoup4\n",
    "!pip3 install requests"
   ]
  },
  {
   "cell_type": "code",
   "execution_count": 2,
   "metadata": {},
   "outputs": [],
   "source": [
    "import sys\n",
    "\n",
    "import requests\n",
    "from bs4 import BeautifulSoup\n",
    "import re\n",
    "import unicodedata\n",
    "import pandas as pd"
   ]
  },
  {
   "cell_type": "markdown",
   "metadata": {},
   "source": [
    "and we will provide some helper functions for you to process web scraped HTML table\n"
   ]
  },
  {
   "cell_type": "code",
   "execution_count": 3,
   "metadata": {},
   "outputs": [],
   "source": [
    "def date_time(table_cells):\n",
    "    \"\"\"\n",
    "    This function returns the data and time from the HTML  table cell\n",
    "    Input: the  element of a table data cell extracts extra row\n",
    "    \"\"\"\n",
    "    return [data_time.strip() for data_time in list(table_cells.strings)][0:2]\n",
    "\n",
    "def booster_version(table_cells):\n",
    "    \"\"\"\n",
    "    This function returns the booster version from the HTML  table cell \n",
    "    Input: the  element of a table data cell extracts extra row\n",
    "    \"\"\"\n",
    "    out = ''.join([booster_version for i,booster_version in enumerate( table_cells.strings) if i%2 == 0][0:-1])\n",
    "    return out\n",
    "\n",
    "def landing_status(table_cells):\n",
    "    \"\"\"\n",
    "    This function returns the landing status from the HTML table cell \n",
    "    Input: the  element of a table data cell extracts extra row\n",
    "    \"\"\"\n",
    "    out = [i for i in table_cells.strings][0]\n",
    "    return out\n",
    "\n",
    "\n",
    "def get_mass(table_cells):\n",
    "    mass = unicodedata.normalize(\"NFKD\", table_cells.text).strip()\n",
    "    if mass:\n",
    "        mass.find(\"kg\")\n",
    "        new_mass = mass[0:mass.find(\"kg\") + 2]\n",
    "    else:\n",
    "        new_mass = 0\n",
    "    return new_mass\n",
    "\n",
    "\n",
    "def extract_column_from_header(row):\n",
    "    \"\"\"\n",
    "    This function returns the landing status from the HTML table cell \n",
    "    Input: the  element of a table data cell extracts extra row\n",
    "    \"\"\"\n",
    "    if (row.br):\n",
    "        row.br.extract()\n",
    "    if row.a:\n",
    "        row.a.extract()\n",
    "    if row.sup:\n",
    "        row.sup.extract()\n",
    "        \n",
    "    column_name = ' '.join(row.contents)\n",
    "    \n",
    "    # Filter the digit and empty names\n",
    "    if not(column_name.strip().isdigit()):\n",
    "        column_name = column_name.strip()\n",
    "        return column_name    \n"
   ]
  },
  {
   "cell_type": "markdown",
   "metadata": {},
   "source": [
    "To keep the lab tasks consistent, you will be asked to scrape the data from a snapshot of the  `List of Falcon 9 and Falcon Heavy launches` Wikipage updated on\n",
    "`9th June 2021`\n"
   ]
  },
  {
   "cell_type": "code",
   "execution_count": 4,
   "metadata": {},
   "outputs": [],
   "source": [
    "static_url = \"https://en.wikipedia.org/w/index.php?title=List_of_Falcon_9_and_Falcon_Heavy_launches&oldid=1027686922\""
   ]
  },
  {
   "cell_type": "markdown",
   "metadata": {},
   "source": [
    "Next, request the HTML page from the above URL and get a `response` object\n"
   ]
  },
  {
   "cell_type": "markdown",
   "metadata": {},
   "source": [
    "### TASK 1: Request the Falcon9 Launch Wiki page from its URL\n"
   ]
  },
  {
   "cell_type": "markdown",
   "metadata": {},
   "source": [
    "First, let's perform an HTTP GET method to request the Falcon9 Launch HTML page, as an HTTP response.\n"
   ]
  },
  {
   "cell_type": "code",
   "execution_count": 5,
   "metadata": {},
   "outputs": [
    {
     "name": "stdout",
     "output_type": "stream",
     "text": [
      "<!DOCTYPE html>\n",
      "<html class=\"client-nojs vector-feature-language-in-header-enabled vector-feature-language-in-main-page-header-disabled vector-feature-page-tools-pinned-disabled vector-feature-toc-pin\n"
     ]
    }
   ],
   "source": [
    "# use requests.get() method with the provided static_url\n",
    "# assign the response to a object\n",
    "response = requests.get(static_url)\n",
    "\n",
    "# Capture html to local file for closer examination of structures of interest...\n",
    "with open(\"htmlCapture.html\", \"wb\") as f:\n",
    "    f.write(response.content)\n",
    "\n",
    "html_content = response.text\n",
    "print(html_content[:200])"
   ]
  },
  {
   "cell_type": "markdown",
   "metadata": {},
   "source": [
    "Create a `BeautifulSoup` object from the HTML `response`\n"
   ]
  },
  {
   "cell_type": "code",
   "execution_count": 6,
   "metadata": {},
   "outputs": [],
   "source": [
    "# Use BeautifulSoup() to create a BeautifulSoup object from a response text content\n",
    "soup = BeautifulSoup(html_content, 'html.parser')"
   ]
  },
  {
   "cell_type": "markdown",
   "metadata": {},
   "source": [
    "Print the page title to verify if the `BeautifulSoup` object was created properly \n"
   ]
  },
  {
   "cell_type": "code",
   "execution_count": 7,
   "metadata": {},
   "outputs": [
    {
     "name": "stdout",
     "output_type": "stream",
     "text": [
      "<title>List of Falcon 9 and Falcon Heavy launches - Wikipedia</title>\n"
     ]
    }
   ],
   "source": [
    "# Use soup.title attribute\n",
    "print(soup.title)"
   ]
  },
  {
   "cell_type": "markdown",
   "metadata": {},
   "source": [
    "### TASK 2: Extract all column/variable names from the HTML table header\n"
   ]
  },
  {
   "cell_type": "markdown",
   "metadata": {},
   "source": [
    "Next, we want to collect all relevant column names from the HTML table header\n"
   ]
  },
  {
   "cell_type": "markdown",
   "metadata": {},
   "source": [
    "Let's try to find all tables on the wiki page first. If you need to refresh your memory about `BeautifulSoup`, please check the external reference link towards the end of this lab\n"
   ]
  },
  {
   "cell_type": "code",
   "execution_count": 8,
   "metadata": {},
   "outputs": [],
   "source": [
    "# Use the find_all function in the BeautifulSoup object, with element type `table`\n",
    "# Assign the result to a list called `html_tables`\n",
    "html_tables = soup.find_all('table')\n",
    "# html_tables"
   ]
  },
  {
   "cell_type": "markdown",
   "metadata": {},
   "source": [
    "Starting from the third table is our target table contains the actual launch records.\n"
   ]
  },
  {
   "cell_type": "code",
   "execution_count": 9,
   "metadata": {},
   "outputs": [],
   "source": [
    "# Let's print the third table and check its content\n",
    "first_launch_table = html_tables[2]\n",
    "# print(first_launch_table)"
   ]
  },
  {
   "cell_type": "markdown",
   "metadata": {},
   "source": [
    "You should able to see the columns names embedded in the table header elements `<th>` as follows:\n"
   ]
  },
  {
   "cell_type": "markdown",
   "metadata": {},
   "source": [
    "```\n",
    "<tr>\n",
    "<th scope=\"col\">Flight No.\n",
    "</th>\n",
    "<th scope=\"col\">Date and<br/>time (<a href=\"/wiki/Coordinated_Universal_Time\" title=\"Coordinated Universal Time\">UTC</a>)\n",
    "</th>\n",
    "<th scope=\"col\"><a href=\"/wiki/List_of_Falcon_9_first-stage_boosters\" title=\"List of Falcon 9 first-stage boosters\">Version,<br/>Booster</a> <sup class=\"reference\" id=\"cite_ref-booster_11-0\"><a href=\"# cite_note-booster-11\">[b]</a></sup>\n",
    "</th>\n",
    "<th scope=\"col\">Launch site\n",
    "</th>\n",
    "<th scope=\"col\">Payload<sup class=\"reference\" id=\"cite_ref-Dragon_12-0\"><a href=\"# cite_note-Dragon-12\">[c]</a></sup>\n",
    "</th>\n",
    "<th scope=\"col\">Payload mass\n",
    "</th>\n",
    "<th scope=\"col\">Orbit\n",
    "</th>\n",
    "<th scope=\"col\">Customer\n",
    "</th>\n",
    "<th scope=\"col\">Launch<br/>outcome\n",
    "</th>\n",
    "<th scope=\"col\"><a href=\"/wiki/Falcon_9_first-stage_landing_tests\" title=\"Falcon 9 first-stage landing tests\">Booster<br/>landing</a>\n",
    "</th></tr>\n",
    "```\n"
   ]
  },
  {
   "cell_type": "markdown",
   "metadata": {},
   "source": [
    "Next, we just need to iterate through the `<th>` elements and apply the provided `extract_column_from_header()` to extract column name one by one\n"
   ]
  },
  {
   "cell_type": "code",
   "execution_count": 10,
   "metadata": {},
   "outputs": [],
   "source": [
    "# print(type(first_launch_table))\n",
    "# first_launch_table.find_all('th')"
   ]
  },
  {
   "cell_type": "code",
   "execution_count": 11,
   "metadata": {},
   "outputs": [],
   "source": [
    "column_names = []\n",
    "\n",
    "# Apply find_all() function with `th` element on first_launch_table\n",
    "# Iterate each th element and apply the provided extract_column_from_header() to get a column name\n",
    "#    Append the Non-empty column name (`if name is not None and len(name) > 0`) into a list called column_names\n",
    "count = 0\n",
    "for th in first_launch_table.find_all('th'):\n",
    "    column_name = extract_column_from_header(th)\n",
    "    if column_name is not None and len(column_name) > 0:\n",
    "        # print(count, column_name)\n",
    "        column_names.append(column_name)\n",
    "        # print(th)\n",
    "    count += 1\n"
   ]
  },
  {
   "cell_type": "markdown",
   "metadata": {},
   "source": [
    "Check the extracted column names\n"
   ]
  },
  {
   "cell_type": "code",
   "execution_count": 12,
   "metadata": {},
   "outputs": [
    {
     "name": "stdout",
     "output_type": "stream",
     "text": [
      "['Flight No.', 'Date and time ( )', 'Launch site', 'Payload', 'Payload mass', 'Orbit', 'Customer', 'Launch outcome']\n"
     ]
    }
   ],
   "source": [
    "print(column_names)"
   ]
  },
  {
   "cell_type": "markdown",
   "metadata": {},
   "source": [
    "## TASK 3: Create a data frame by parsing the launch HTML tables\n"
   ]
  },
  {
   "cell_type": "markdown",
   "metadata": {},
   "source": [
    "We will create an empty dictionary with keys from the extracted column names in the previous task. Later, this dictionary will be converted into a Pandas dataframe\n"
   ]
  },
  {
   "cell_type": "code",
   "execution_count": 13,
   "metadata": {},
   "outputs": [
    {
     "data": {
      "text/plain": [
       "{'Flight No.': [],\n",
       " 'Launch site': [],\n",
       " 'Payload': [],\n",
       " 'Payload mass': [],\n",
       " 'Orbit': [],\n",
       " 'Customer': [],\n",
       " 'Launch outcome': [],\n",
       " 'Version Booster': [],\n",
       " 'Booster landing': [],\n",
       " 'Date': [],\n",
       " 'Time': []}"
      ]
     },
     "execution_count": 13,
     "metadata": {},
     "output_type": "execute_result"
    }
   ],
   "source": [
    "# Initialise a new Launch dictionary from the column names identified previously\n",
    "launch_dict = dict.fromkeys(column_names)\n",
    "\n",
    "# Remove an irrelvant column\n",
    "del launch_dict['Date and time ( )']\n",
    "\n",
    "# Set the launch_dict to be an empty list for each column\n",
    "launch_dict['Flight No.'] = []\n",
    "launch_dict['Launch site'] = []\n",
    "launch_dict['Payload'] = []\n",
    "launch_dict['Payload mass'] = []\n",
    "launch_dict['Orbit'] = []\n",
    "launch_dict['Customer'] = []\n",
    "launch_dict['Launch outcome'] = []\n",
    "\n",
    "# Add some additional columns\n",
    "launch_dict['Version Booster'] = []\n",
    "launch_dict['Booster landing'] = []\n",
    "launch_dict['Date'] = []\n",
    "launch_dict['Time'] = []\n",
    "\n",
    "launch_dict"
   ]
  },
  {
   "cell_type": "markdown",
   "metadata": {},
   "source": [
    "Next, we just need to fill up the `launch_dict` with launch records extracted from table rows.\n"
   ]
  },
  {
   "cell_type": "markdown",
   "metadata": {},
   "source": [
    "Usually, HTML tables in Wiki pages are likely to contain unexpected annotations and other types of noises, such as reference links `B0004.1[8]`, missing values `N/A [e]`, inconsistent formatting, etc.\n"
   ]
  },
  {
   "cell_type": "markdown",
   "metadata": {},
   "source": [
    "To simplify the parsing process, we have provided an incomplete code snippet below to help you to fill up the `launch_dict`. Please complete the following code snippet with TODOs or you can choose to write your own logic to parse all launch tables:\n"
   ]
  },
  {
   "cell_type": "code",
   "execution_count": 14,
   "metadata": {},
   "outputs": [
    {
     "name": "stdout",
     "output_type": "stream",
     "text": [
      "Flight:  1\n",
      "Flight:  2\n",
      "Flight:  3\n",
      "Flight:  4\n",
      "Flight:  5\n",
      "Flight:  6\n",
      "Flight:  7\n",
      "Flight:  8\n",
      "Flight:  9\n",
      "Flight:  10\n",
      "Flight:  11\n",
      "Flight:  12\n",
      "Flight:  13\n",
      "Flight:  14\n",
      "Flight:  15\n",
      "Flight:  16\n",
      "Flight:  17\n",
      "Flight:  18\n",
      "Flight:  19\n",
      "Flight:  20\n",
      "Flight:  21\n",
      "Flight:  22\n",
      "Flight:  23\n",
      "Flight:  24\n",
      "Flight:  25\n",
      "Flight:  26\n",
      "Flight:  27\n",
      "Flight:  28\n",
      "Flight:  29\n",
      "Flight:  30\n",
      "Flight:  31\n",
      "Flight:  32\n",
      "Flight:  33\n",
      "Flight:  34\n",
      "Flight:  35\n",
      "Flight:  36\n",
      "Flight:  37\n",
      "Flight:  38\n",
      "Flight:  39\n",
      "Flight:  40\n",
      "Flight:  41\n",
      "Flight:  42\n",
      "Flight:  43\n",
      "Flight:  44\n",
      "Flight:  45\n",
      "Flight:  46\n",
      "Flight:  47\n",
      "Flight:  48\n",
      "Flight:  49\n",
      "Flight:  50\n",
      "Flight:  51\n",
      "Flight:  52\n",
      "Flight:  53\n",
      "Flight:  54\n",
      "Flight:  55\n",
      "Flight:  56\n",
      "Flight:  57\n",
      "Flight:  58\n",
      "Flight:  59\n",
      "Flight:  60\n",
      "Flight:  61\n",
      "Flight:  62\n",
      "Flight:  63\n",
      "Flight:  64\n",
      "Flight:  65\n",
      "Flight:  66\n",
      "Flight:  67\n",
      "Flight:  68\n",
      "Flight:  69\n",
      "Flight:  70\n",
      "Flight:  71\n",
      "Flight:  72\n",
      "Flight:  73\n",
      "Flight:  74\n",
      "Flight:  75\n",
      "Flight:  76\n",
      "Flight:  77\n",
      "Flight:  78\n",
      "Flight:  79\n",
      "Flight:  80\n",
      "Flight:  81\n",
      "Flight:  82\n",
      "Flight:  83\n",
      "Flight:  84\n",
      "Flight:  85\n",
      "Flight:  86\n",
      "Flight:  87\n",
      "Flight:  88\n",
      "Flight:  89\n",
      "Flight:  90\n",
      "Flight:  91\n",
      "Flight:  92\n",
      "Flight:  93\n",
      "Flight:  94\n",
      "Flight:  95\n",
      "Flight:  96\n",
      "Flight:  97\n",
      "Flight:  98\n",
      "Flight:  99\n",
      "Flight:  100\n",
      "Flight:  101\n",
      "Flight:  102\n",
      "Flight:  103\n",
      "Flight:  104\n",
      "Flight:  105\n",
      "Flight:  106\n",
      "Flight:  107\n",
      "Flight:  108\n",
      "Flight:  109\n",
      "Flight:  110\n",
      "Flight:  111\n",
      "Flight:  112\n",
      "Flight:  113\n",
      "Flight:  114\n",
      "Flight:  115\n",
      "Flight:  116\n",
      "Flight:  117\n",
      "Flight:  118\n",
      "Flight:  119\n",
      "Flight:  120\n",
      "Flight:  121\n"
     ]
    }
   ],
   "source": [
    "extracted_row = 0\n",
    "\n",
    "# Extract each table \n",
    "for table_number, table in enumerate(soup.find_all('table', \"wikitable plainrowheaders collapsible\")):\n",
    "    # get table row \n",
    "    for rows in table.find_all(\"tr\"):\n",
    "        # check to see if first table heading is a number corresponding to a launch number \n",
    "        if rows.th:\n",
    "            if rows.th.string:\n",
    "                # flight number is saved as a Row header (i.e. a th of scope=\"row\" rowspan=\"2\")\n",
    "                # It sits within the row containing launch details.\n",
    "                #    It also spans over the comments row, but no flight details are on those rows.\n",
    "                # That is, there are two tr structures per \"launch\", but only the one with row header th is relevant.\n",
    "                flight_number = rows.th.string.strip()\n",
    "                flag = flight_number.isdigit()\n",
    "        else:\n",
    "            flag = False\n",
    "\n",
    "        # get table element \n",
    "        row = rows.find_all('td')\n",
    "\n",
    "        # if it is number save cells in a dictonary \n",
    "        if flag:\n",
    "            extracted_row += 1\n",
    "\n",
    "            # Flight Number value\n",
    "            # TODO: Append the flight_number into launch_dict with key `Flight No.`\n",
    "            print(\"Flight: \", flight_number)\n",
    "            launch_dict['Flight No.'].append(flight_number)\n",
    "\n",
    "            datatimelist = date_time(row[0])\n",
    "            \n",
    "            # Date value\n",
    "            # TODO: Append the date into launch_dict with key `Date`\n",
    "            date = datatimelist[0].strip(',')\n",
    "            # print(date)\n",
    "            launch_dict['Date'].append(date)\n",
    "            \n",
    "            # Time value\n",
    "            # TODO: Append the time into launch_dict with key `Time`\n",
    "            time = datatimelist[1]\n",
    "            # print(time)\n",
    "            launch_dict['Time'].append(time)\n",
    "              \n",
    "            # Booster version\n",
    "            # TODO: Append the bv into launch_dict with key `Version Booster`\n",
    "            bv = booster_version(row[1])\n",
    "            if not(bv):\n",
    "                bv = row[1].a.string\n",
    "            # print(bv)\n",
    "            launch_dict['Version Booster'].append(bv)\n",
    "            \n",
    "            # Launch Site\n",
    "            # TODO: Append the bv into launch_dict with key `Launch site`\n",
    "            launch_site = row[2].a.string\n",
    "            # print(launch_site)\n",
    "            launch_dict['Launch site'].append(launch_site)\n",
    "            \n",
    "            # Payload\n",
    "            # TODO: Append the payload into launch_dict with key `Payload`\n",
    "            payload = row[3].a.string\n",
    "            # print(payload)\n",
    "            launch_dict['Payload'].append(payload)\n",
    "            \n",
    "            # Payload Mass\n",
    "            # TODO: Append the payload_mass into launch_dict with key `Payload mass`\n",
    "            payload_mass = get_mass(row[4])\n",
    "            # print(payload_mass)\n",
    "            launch_dict['Payload mass'].append(payload_mass)\n",
    "            \n",
    "            # Orbit\n",
    "            # TODO: Append the orbit into launch_dict with key `Orbit`\n",
    "            orbit = row[5].a.string\n",
    "            # print(orbit)\n",
    "            launch_dict['Orbit'].append(orbit)\n",
    "            \n",
    "            # Customer\n",
    "            # TODO: Append the customer into launch_dict with key `Customer`\n",
    "            # NB. Some customers don't have the <a> tag (esp. Flight 106). Deal with that.\n",
    "            href = row[6].find('a')\n",
    "            if href:\n",
    "                customer = href.string\n",
    "            else:\n",
    "                customer = row[6].string\n",
    "            # print(customer)\n",
    "            launch_dict['Customer'].append(customer)\n",
    "            \n",
    "            # Launch outcome\n",
    "            # TODO: Append the launch_outcome into launch_dict with key `Launch outcome`\n",
    "            launch_outcome = list(row[7].strings)[0]\n",
    "            launch_outcome = launch_outcome.rstrip()\n",
    "            # print(launch_outcome)\n",
    "            launch_dict['Launch outcome'].append(launch_outcome)\n",
    "            \n",
    "            # Booster landing\n",
    "            # TODO: Append the launch_outcome into launch_dict with key `Booster landing`\n",
    "            booster_landing = landing_status(row[8])\n",
    "            booster_landing = booster_landing.rstrip()\n",
    "            # print(booster_landing)\n",
    "            launch_dict['Booster landing'].append(booster_landing)\n",
    "            "
   ]
  },
  {
   "cell_type": "code",
   "execution_count": 15,
   "metadata": {},
   "outputs": [
    {
     "name": "stdout",
     "output_type": "stream",
     "text": [
      "1 CCAFS Dragon Spacecraft Qualification Unit 0 LEO SpaceX Success F9 v1.07B0003.18 Failure 4 June 2010 18:45\n",
      "2 CCAFS Dragon 0 LEO NASA Success F9 v1.07B0004.18 Failure 8 December 2010 15:43\n",
      "3 CCAFS Dragon 525 kg LEO NASA Success F9 v1.07B0005.18 No attempt 22 May 2012 07:44\n",
      "4 CCAFS SpaceX CRS-1 4,700 kg LEO NASA Success F9 v1.07B0006.18 No attempt 8 October 2012 00:35\n",
      "5 CCAFS SpaceX CRS-2 4,877 kg LEO NASA Success F9 v1.07B0007.18 No attempt 1 March 2013 15:10\n",
      "6 VAFB CASSIOPE 500 kg Polar orbit MDA Success F9 v1.17B10038 Uncontrolled 29 September 2013 16:00\n",
      "7 CCAFS SES-8 3,170 kg GTO SES Success F9 v1.1 No attempt 3 December 2013 22:41\n",
      "8 CCAFS Thaicom 6 3,325 kg GTO Thaicom Success F9 v1.1 No attempt 6 January 2014 22:06\n",
      "9 Cape Canaveral SpaceX CRS-3 2,296 kg LEO NASA Success F9 v1.1 Controlled 18 April 2014 19:25\n",
      "10 Cape Canaveral Orbcomm-OG2 1,316 kg LEO Orbcomm Success F9 v1.1 Controlled 14 July 2014 15:15\n",
      "11 Cape Canaveral AsiaSat 8 4,535 kg GTO AsiaSat Success F9 v1.1 No attempt 5 August 2014 08:00\n",
      "12 Cape Canaveral AsiaSat 6 4,428 kg GTO AsiaSat Success F9 v1.1[ No attempt 7 September 2014 05:00\n",
      "13 Cape Canaveral SpaceX CRS-4 2,216 kg LEO NASA Success F9 v1.1[ Uncontrolled 21 September 2014 05:52\n",
      "14 Cape Canaveral SpaceX CRS-5 2,395 kg LEO NASA Success F9 v1.1[ Failure 10 January 2015 09:47\n",
      "15 Cape Canaveral DSCOVR 570 kg HEO USAF Success F9 v1.1[ Controlled 11 February 2015 23:03\n",
      "16 Cape Canaveral ABS-3A 4,159 kg GTO ABS Success F9 v1.1[ No attempt 2 March 2015 03:50\n",
      "17 Cape Canaveral SpaceX CRS-6 1,898 kg LEO NASA Success F9 v1.1[ Failure 14 April 2015 20:10\n",
      "18 Cape Canaveral TürkmenÄlem 52°E / MonacoSAT 4,707 kg GTO None Success F9 v1.1[ No attempt 27 April 2015 23:03\n",
      "19 Cape Canaveral SpaceX CRS-7 1,952 kg LEO NASA Failure F9 v1.1[ Precluded 28 June 2015 14:21\n",
      "20 Cape Canaveral Orbcomm-OG2 2,034 kg LEO Orbcomm Success F9 FT[ Success 22 December 2015 01:29\n",
      "21 VAFB Jason-3 553 kg LEO NASA Success F9 v1.1[ Failure 17 January 2016 18:42\n",
      "22 Cape Canaveral SES-9 5,271 kg GTO SES Success F9 FT[ Failure 4 March 2016 23:35\n",
      "23 Cape Canaveral SpaceX CRS-8 3,136 kg LEO NASA Success F9 FT[ Success 8 April 2016 20:43\n",
      "24 Cape Canaveral JCSAT-14 4,696 kg GTO SKY Perfect JSAT Group Success F9 FT[ Success 6 May 2016 05:21\n",
      "25 Cape Canaveral Thaicom 8 3,100 kg GTO Thaicom Success F9 FT[ Success 27 May 2016 21:39\n",
      "26 Cape Canaveral ABS-2A 3,600 kg GTO ABS Success F9 FT[ Failure 15 June 2016 14:29\n",
      "27 Cape Canaveral SpaceX CRS-9 2,257 kg LEO NASA Success F9 FT[ Success 18 July 2016 04:45\n",
      "28 Cape Canaveral JCSAT-16 4,600 kg GTO SKY Perfect JSAT Group Success F9 FT[ Success 14 August 2016 05:26\n",
      "29 VAFB Iridium NEXT 9,600 kg Polar Iridium Communications Success F9 FT[ Success 14 January 2017 17:54\n",
      "30 KSC SpaceX CRS-10 2,490 kg LEO NASA Success F9 FT[ Success 19 February 2017 14:39\n",
      "31 KSC EchoStar 23 5,600 kg GTO EchoStar Success F9 FT[ No attempt 16 March 2017 06:00\n",
      "32 KSC SES-10 5,300 kg GTO SES Success F9 FT♺[ Success 30 March 2017 22:27\n",
      "33 KSC NROL-76 C LEO NRO Success F9 FT[ Success 1 May 2017 11:15\n",
      "34 KSC Inmarsat-5 F4 6,070 kg GTO Inmarsat Success F9 FT[ No attempt 15 May 2017 23:21\n",
      "35 KSC SpaceX CRS-11 2,708 kg LEO NASA Success F9 FT[ Success 3 June 2017 21:07\n",
      "36 KSC BulgariaSat-1 3,669 kg GTO Bulsatcom Success F9 FTB1029.2195 Success 23 June 2017 19:10\n",
      "37 VAFB Iridium NEXT 9,600 kg LEO Iridium Communications Success F9 FT[ Success 25 June 2017 20:25\n",
      "38 KSC Intelsat 35e 6,761 kg GTO Intelsat Success F9 FT[ No attempt 5 July 2017 23:38\n",
      "39 KSC SpaceX CRS-12 3,310 kg LEO NASA Success F9 B4[ Success 14 August 2017 16:31\n",
      "40 VAFB Formosat-5 475 kg SSO NSPO Success F9 FT[ Success 24 August 2017 18:51\n",
      "41 KSC Boeing X-37B 4,990 kg LEO USAF Success F9 B4[ Success 7 September 2017 14:00\n",
      "42 VAFB Iridium NEXT 9,600 kg Polar Iridium Communications Success F9 B4[ Success 9 October 2017 12:37\n",
      "43 KSC SES-11 5,200 kg GTO SES S.A. Success F9 FTB1031.2220 Success 11 October 2017 22:53:00\n",
      "44 KSC Koreasat 5A 3,500 kg GTO KT Corporation Success F9 B4[ Success 30 October 2017 19:34\n",
      "45 Cape Canaveral SpaceX CRS-13 2,205 kg LEO NASA Success F9 FTB1035.2227 Success 15 December 2017 15:36\n",
      "46 VAFB Iridium NEXT 9,600 kg Polar Iridium Communications Success F9 FTB1036.2227 Controlled 23 December 2017 01:27\n",
      "47 CCAFS Zuma C LEO Northrop Grumman Success F9 B4[ Success 8 January 2018 01:00\n",
      "48 CCAFS GovSat-1 4,230 kg GTO SES Success F9 FTB1032.2245 Controlled 31 January 2018 21:25\n",
      "49 VAFB Paz 2,150 kg SSO Hisdesat Success F9 FTB1038.2268 No attempt 22 February 2018 14:17\n",
      "50 CCAFS Hispasat 30W-6 6,092 kg GTO Hispasat Success F9 B4[ No attempt 6 March 2018 05:33\n",
      "51 VAFB Iridium NEXT 9,600 kg Polar Iridium Communications Success F9 B4B1041.2268 No attempt 30 March 2018 14:14\n",
      "52 CCAFS SpaceX CRS-14 2,647 kg LEO NASA Success F9 B4B1039.2292 No attempt 2 April 2018 20:30\n",
      "53 CCAFS Transiting Exoplanet Survey Satellite 362 kg HEO NASA Success F9 B4[ Success 18 April 2018 22:51\n",
      "54 KSC Bangabandhu-1 3,600 kg GTO Thales-Alenia Success F9 B5311B1046.1268 Success 11 May 2018 20:14\n",
      "55 VAFB Iridium NEXT 6,460 kg Polar Iridium Communications Success F9 B4B1043.2322 No attempt 22 May 2018 19:47\n",
      "56 CCAFS SES-12 5,384 kg GTO SES Success F9 B4B1040.2268 No attempt 4 June 2018 04:45\n",
      "57 CCAFS SpaceX CRS-15 2,697 kg LEO NASA Success F9 B4B1045.2336 No attempt 29 June 2018 09:42\n",
      "58 CCAFS Telstar 19V 7,075 kg GTO Telesat Success F9 B5 Success 22 July 2018 05:50\n",
      "59 VAFB Iridium NEXT 9,600 kg Polar Iridium Communications Success F9 B5349B1048[ Success 25 July 2018 11:39\n",
      "60 CCAFS Merah Putih 5,800 kg GTO Telkom Indonesia Success F9 B5B1046.2354 Success 7 August 2018 05:18\n",
      "61 CCAFS Telstar 18V 7,060 kg GTO Telesat Success F9 B5[ Success 10 September 2018 04:45\n",
      "62 VAFB SAOCOM 1A 3,000 kg SSO CONAE Success F9 B5B1048.2364 Success 8 October 2018 02:22\n",
      "63 KSC Es'hail 2 5,300 kg GTO Es'hailSat Success F9 B5B1047.2268 Success 15 November 2018 20:46\n",
      "64 VAFB SSO-A ~4,000 kg SSO Spaceflight Industries Success F9 B5B1046.3268 Success 3 December 2018 18:34:05\n",
      "65 CCAFS SpaceX CRS-16 2,500 kg LEO NASA Success F9 B5[ Failure 5 December 2018 18:16\n",
      "66 CCAFS GPS III 4,400 kg MEO USAF Success F9 B5[ No attempt 23 December 2018 13:51\n",
      "67 VAFB Iridium NEXT 9,600 kg Polar Iridium Communications Success F9 B5B1049.2397 Success 11 January 2019 15:31\n",
      "68 CCAFS Nusantara Satu 4,850 kg GTO PSN Success F9 B5B1048.3399 Success 22 February 2019 01:45\n",
      "69 KSC Crew Dragon Demo-1 12,055 kg LEO NASA Success F9 B5[]413 Success 2 March 2019 07:49\n",
      "70 CCAFS SpaceX CRS-17 2,495 kg LEO NASA Success F9 B5[ Success 4 May 2019 06:48\n",
      "71 CCAFS Starlink 13,620 kg LEO SpaceX Success F9 B5B1049.3434 Success 24 May 2019 02:30\n",
      "72 VAFB RADARSAT Constellation 4,200 kg SSO Canadian Space Agency Success F9 B5B1051.2420 Success 12 June 2019 14:17\n",
      "73 CCAFS SpaceX CRS-18 2,268 kg LEO NASA Success F9 B5B1056.2465 Success 25 July 2019 22:01\n",
      "74 CCAFS AMOS-17 6,500 kg GTO Spacecom Success F9 B5B1047.3472 No attempt 6 August 2019 23:23\n",
      "75 CCAFS Starlink 15,600 kg LEO SpaceX Success F9 B5 Success 11 November 2019 14:56\n",
      "76 CCAFS SpaceX CRS-19 2,617 kg LEO NASA Success F9 B5[ Success 5 December 2019 17:29\n",
      "77 CCAFS JCSat-18 6,956 kg GTO Sky Perfect JSAT Success F9 B5B1056.3482 Success 17 December 2019 00:10\n",
      "78 CCAFS Starlink 15,600 kg LEO SpaceX Success F9 B5 Success 7 January 2020 02:19:21\n",
      "79 KSC Crew Dragon in-flight abort test 12,050 kg Sub-orbital NASA Success F9 B5 No attempt 19 January 2020 15:30\n",
      "80 CCAFS Starlink 15,600 kg LEO SpaceX Success F9 B5 Success 29 January 2020 14:07\n",
      "81 CCAFS Starlink 15,600 kg LEO SpaceX Success F9 B5 Failure 17 February 2020 15:05\n",
      "82 CCAFS SpaceX CRS-20 1,977 kg LEO NASA Success F9 B5 Success 7 March 2020 04:50\n",
      "83 KSC Starlink 15,600 kg LEO SpaceX Success F9 B5 Failure 18 March 2020 12:16\n",
      "84 KSC Starlink 15,600 kg LEO SpaceX Success F9 B5 Success 22 April 2020 19:30\n",
      "85 KSC Crew Dragon Demo-2 12,530 kg LEO NASA Success F9 B5[ Success 30 May 2020 19:22\n",
      "86 CCAFS Starlink 15,600 kg LEO SpaceX Success F9 B5 Success 4 June 2020 01:25\n",
      "87 CCAFS Starlink 15,410 kg LEO SpaceX Success F9 B5 Success 13 June 2020 09:21\n",
      "88 CCAFS GPS III 4,311 kg MEO U.S. Space Force Success F9 B5 Success 30 June 2020 20:10:46\n",
      "89 CCAFS ANASIS-II 5,000–6,000 kg GTO Republic of Korea Army Success F9 B5B1058.2544 Success 20 July 2020 21:30\n",
      "90 KSC Starlink 14,932 kg LEO SpaceX Success F9 B5 Success 7 August 2020 05:12\n",
      "91 CCAFS Starlink ~15,440 kg LEO SpaceX Success F9 B5B1049.6544 Success 18 August 2020 14:31\n",
      "92 CCAFS SAOCOM 1B 3,130 kg SSO CONAE Success F9 B5 Success 30 August 2020 23:18\n",
      "93 KSC Starlink 15,600 kg LEO SpaceX Success F9 B5B1060.2563 Success 3 September 2020 12:46:14\n",
      "94 KSC Starlink 15,600 kg LEO SpaceX Success F9 B5B1058.3565 Success 6 October 2020 11:29:34\n",
      "95 KSC Starlink 15,600 kg LEO SpaceX Success F9 B5B1051.6568 Success 18 October 2020 12:25:57\n",
      "96 CCAFS Starlink 15,600 kg LEO SpaceX Success F9 B5 Success 24 October 2020 15:31:34\n",
      "97 CCAFS GPS III 4,311 kg MEO USSF Success F9 B5 Success 5 November 2020 23:24:23\n",
      "98 KSC Crew-1 ~12,500 kg LEO NASA Success F9 B5[ Success 16 November 2020 00:27\n",
      "99 VAFB Sentinel-6 Michael Freilich (Jason-CS A) 1,192 kg LEO NASA Success F9 B5 Success 21 November 2020 17:17:08\n",
      "100 CCAFS Starlink 15,600 kg LEO SpaceX Success F9 B5 ♺[ Success 25 November 2020 02:13\n",
      "101 KSC SpaceX CRS-21 2,972 kg LEO NASA Success F9 B5 ♺[ Success 6 December 2020 16:17:08\n",
      "102 CCSFS SXM-7 7,000 kg GTO Sirius XM Success F9 B5 ♺ Success 13 December 2020 17:30:00\n",
      "103 KSC NROL-108 C LEO NRO Success F9 B5 ♺ Success 19 December 2020 14:00:00\n",
      "104 CCSFS Türksat 5A 3,500 kg GTO Türksat Success F9 B5 Success 8 January 2021 02:15\n",
      "105 KSC Starlink 15,600 kg LEO SpaceX Success F9 B5B1051.8609 Success 20 January 2021 13:02\n",
      "106 CCSFS Transporter-1 ~5,000 kg SSO Various\n",
      " Success F9 B5B1058.5613 Success 24 January 2021 15:00\n",
      "107 CCSFS Starlink 15,600 kg LEO SpaceX Success F9 B5 ♺[ Success 4 February 2021 06:19\n",
      "108 CCSFS Starlink 15,600 kg LEO SpaceX Success F9 B5 ♺ Failure 16 February 2021 03:59:37\n",
      "109 KSC Starlink 15,600 kg LEO SpaceX Success F9 B5 ♺[ Success 4 March 2021 08:24\n",
      "110 CCSFS Starlink 15,600 kg LEO SpaceX Success F9 B5 ♺[ Success 11 March 2021 08:13:29\n",
      "111 KSC Starlink 15,600 kg LEO SpaceX Success F9 B5 ♺ Success 14 March 2021 10:01\n",
      "112 CCSFS Starlink 15,600 kg LEO SpaceX Success F9 B5B1060.6643 Success 24 March 2021 08:28\n",
      "113 CCSFS Starlink 15,600 kg LEO SpaceX Success F9 B5 ♺ Success 7 April 2021 16:34\n",
      "114 KSC Crew-2 ~13,000 kg LEO NASA Success F9 B5B1061.2647 Success 23 April 2021 9:49\n",
      "115 CCSFS Starlink 15,600 kg LEO SpaceX Success F9 B5B1060.7652 Success 29 April 2021 03:44\n",
      "116 KSC Starlink 15,600 kg LEO SpaceX Success F9 B5B1049.9655 Success 4 May 2021 19:01\n",
      "117 CCSFS Starlink 15,600 kg LEO SpaceX Success F9 B5B1051.10657 Success 9 May 2021 06:42\n",
      "118 KSC Starlink ~14,000 kg LEO SpaceX Success F9 B5B1058.8660 Success 15 May 2021 22:56\n",
      "119 CCSFS Starlink 15,600 kg LEO SpaceX Success F9 B5B1063.2665 Success 26 May 2021 18:59\n",
      "120 KSC SpaceX CRS-22 3,328 kg LEO NASA Success F9 B5B1067.1668 Success 3 June 2021 17:29\n",
      "121 CCSFS SXM-8 7,000 kg GTO Sirius XM Success F9 B5 Success 6 June 2021 04:26\n"
     ]
    }
   ],
   "source": [
    "row = 0\n",
    "while row < len(launch_dict['Flight No.']):\n",
    "    print(launch_dict['Flight No.'][row],\n",
    "        launch_dict['Launch site'][row],\n",
    "        launch_dict['Payload'][row],\n",
    "        launch_dict['Payload mass'][row],\n",
    "        launch_dict['Orbit'][row],\n",
    "        launch_dict['Customer'][row],\n",
    "        launch_dict['Launch outcome'][row],\n",
    "        launch_dict['Version Booster'][row],\n",
    "        launch_dict['Booster landing'][row],\n",
    "        launch_dict['Date'][row],\n",
    "        launch_dict['Time'][row]\n",
    "         )\n",
    "    row = row + 1\n",
    "\n"
   ]
  },
  {
   "cell_type": "markdown",
   "metadata": {},
   "source": [
    "After you have fill in the parsed launch record values into `launch_dict`, you can create a dataframe from it.\n"
   ]
  },
  {
   "cell_type": "code",
   "execution_count": 16,
   "metadata": {},
   "outputs": [],
   "source": [
    "df = pd.DataFrame({ key:pd.Series(value) for key, value in launch_dict.items() })"
   ]
  },
  {
   "cell_type": "markdown",
   "metadata": {},
   "source": [
    "We can now export it to a <b>CSV</b> for the next section, but to make the answers consistent and in case you have difficulties finishing this lab. \n",
    "\n",
    "Following labs will be using a provided dataset to make each lab independent. \n"
   ]
  },
  {
   "cell_type": "code",
   "execution_count": 17,
   "metadata": {},
   "outputs": [],
   "source": [
    "df.to_csv('dataset_part_1b.csv', index=False)"
   ]
  },
  {
   "cell_type": "markdown",
   "metadata": {},
   "source": [
    "<code>df.to_csv('spacex_web_scraped.csv', index=False)</code>\n"
   ]
  },
  {
   "cell_type": "markdown",
   "metadata": {},
   "source": [
    "## Authors\n"
   ]
  },
  {
   "cell_type": "markdown",
   "metadata": {},
   "source": [
    "<a href=\"https://www.linkedin.com/in/yan-luo-96288783/\">Yan Luo</a>\n"
   ]
  },
  {
   "cell_type": "markdown",
   "metadata": {},
   "source": [
    "<a href=\"https://www.linkedin.com/in/nayefaboutayoun/\">Nayef Abou Tayoun</a>\n"
   ]
  },
  {
   "cell_type": "markdown",
   "metadata": {},
   "source": [
    "<!--\n",
    "## Change Log\n",
    "-->\n"
   ]
  },
  {
   "cell_type": "markdown",
   "metadata": {},
   "source": [
    "<!--\n",
    "| Date (YYYY-MM-DD) | Version | Changed By | Change Description      |\n",
    "| ----------------- | ------- | ---------- | ----------------------- |\n",
    "| 2021-06-09        | 1.0     | Yan Luo    | Tasks updates           |\n",
    "| 2020-11-10        | 1.0     | Nayef      | Created the initial version |\n",
    "-->\n"
   ]
  },
  {
   "cell_type": "markdown",
   "metadata": {},
   "source": [
    "Copyright © 2021 IBM Corporation. All rights reserved.\n"
   ]
  }
 ],
 "metadata": {
  "kernelspec": {
   "display_name": "Python 3 (ipykernel)",
   "language": "python",
   "name": "python3"
  },
  "language_info": {
   "codemirror_mode": {
    "name": "ipython",
    "version": 3
   },
   "file_extension": ".py",
   "mimetype": "text/x-python",
   "name": "python",
   "nbconvert_exporter": "python",
   "pygments_lexer": "ipython3",
   "version": "3.11.8"
  },
  "prev_pub_hash": "64f1b0aac408997185c47caba18730e0028b75e7934a0e5bf0ae73c5cb7ba677"
 },
 "nbformat": 4,
 "nbformat_minor": 4
}
