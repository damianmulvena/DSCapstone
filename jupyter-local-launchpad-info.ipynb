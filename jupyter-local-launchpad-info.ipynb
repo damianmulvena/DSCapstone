{
 "cells": [
  {
   "cell_type": "markdown",
   "metadata": {},
   "source": [
    "# Obtaining launch data set\n",
    "## for Launch Sites with Full names"
   ]
  },
  {
   "cell_type": "code",
   "execution_count": 1,
   "metadata": {},
   "outputs": [],
   "source": [
    "# Requests allows us to make HTTP requests which we will use to get data from an API\n",
    "import requests\n",
    "# Pandas is a software library written for the Python programming language\n",
    "#   for data manipulation and analysis.\n",
    "import pandas as pd\n",
    "# NumPy is a library for the Python programming language, adding support\n",
    "#   for large, multi-dimensional arrays and matrices, along with a large\n",
    "#   collection of high-level mathematical functions to operate on these arrays\n",
    "import numpy as np\n",
    "# Datetime is a library that allows us to represent dates\n",
    "import datetime\n",
    "\n",
    "# Setting this option will print all collumns of a dataframe\n",
    "pd.set_option('display.max_columns', None)\n",
    "# Setting this option will print all of the data in a feature\n",
    "pd.set_option('display.max_colwidth', None)"
   ]
  },
  {
   "cell_type": "markdown",
   "metadata": {},
   "source": [
    "From the <code>launchpad</code> we would like to know the name of the launch site being used, the logitude, and the latitude.\n"
   ]
  },
  {
   "cell_type": "code",
   "execution_count": 2,
   "metadata": {},
   "outputs": [],
   "source": [
    "# Want a listing of the launchpads used, with interesting info\n",
    "#   (In particular I need the decode for the cryptic short names!)\n",
    "spacex_url = \"https://api.spacexdata.com/v4/launchpads\""
   ]
  },
  {
   "cell_type": "code",
   "execution_count": 3,
   "metadata": {},
   "outputs": [],
   "source": [
    "response = requests.get(spacex_url)"
   ]
  },
  {
   "cell_type": "markdown",
   "metadata": {},
   "source": [
    "We should see that the request was successful with the 200 status response code\n"
   ]
  },
  {
   "cell_type": "code",
   "execution_count": 4,
   "metadata": {},
   "outputs": [
    {
     "data": {
      "text/plain": [
       "200"
      ]
     },
     "execution_count": 4,
     "metadata": {},
     "output_type": "execute_result"
    }
   ],
   "source": [
    "response.status_code"
   ]
  },
  {
   "cell_type": "markdown",
   "metadata": {},
   "source": [
    "Now we decode the response content as a Json using <code>.json()</code> and turn it into a Pandas dataframe using <code>.json_normalize()</code>\n"
   ]
  },
  {
   "cell_type": "code",
   "execution_count": 5,
   "metadata": {},
   "outputs": [],
   "source": [
    "# Use json_normalize method to convert the json result into a dataframe\n",
    "data = pd.json_normalize(response.json())"
   ]
  },
  {
   "cell_type": "code",
   "execution_count": 6,
   "metadata": {},
   "outputs": [
    {
     "name": "stdout",
     "output_type": "stream",
     "text": [
      "<class 'pandas.core.frame.DataFrame'>\n",
      "RangeIndex: 6 entries, 0 to 5\n",
      "Data columns (total 15 columns):\n",
      " #   Column            Non-Null Count  Dtype  \n",
      "---  ------            --------------  -----  \n",
      " 0   name              6 non-null      object \n",
      " 1   full_name         6 non-null      object \n",
      " 2   locality          6 non-null      object \n",
      " 3   region            6 non-null      object \n",
      " 4   latitude          6 non-null      float64\n",
      " 5   longitude         6 non-null      float64\n",
      " 6   launch_attempts   6 non-null      int64  \n",
      " 7   launch_successes  6 non-null      int64  \n",
      " 8   rockets           6 non-null      object \n",
      " 9   timezone          6 non-null      object \n",
      " 10  launches          6 non-null      object \n",
      " 11  status            6 non-null      object \n",
      " 12  details           6 non-null      object \n",
      " 13  id                6 non-null      object \n",
      " 14  images.large      6 non-null      object \n",
      "dtypes: float64(2), int64(2), object(11)\n",
      "memory usage: 852.0+ bytes\n"
     ]
    }
   ],
   "source": [
    "# Some quick data checks and explorations...\n",
    "# data.to_csv('launches-CourseData-0.csv', index = False)\n",
    "# data.shape\n",
    "data.info()"
   ]
  },
  {
   "cell_type": "markdown",
   "metadata": {},
   "source": [
    "Delete some unwanted columns, and\n",
    "using the dataframe <code>data</code> print the first few rows"
   ]
  },
  {
   "cell_type": "code",
   "execution_count": 7,
   "metadata": {},
   "outputs": [
    {
     "data": {
      "text/html": [
       "<div>\n",
       "<style scoped>\n",
       "    .dataframe tbody tr th:only-of-type {\n",
       "        vertical-align: middle;\n",
       "    }\n",
       "\n",
       "    .dataframe tbody tr th {\n",
       "        vertical-align: top;\n",
       "    }\n",
       "\n",
       "    .dataframe thead th {\n",
       "        text-align: right;\n",
       "    }\n",
       "</style>\n",
       "<table border=\"1\" class=\"dataframe\">\n",
       "  <thead>\n",
       "    <tr style=\"text-align: right;\">\n",
       "      <th></th>\n",
       "      <th>name</th>\n",
       "      <th>full_name</th>\n",
       "      <th>locality</th>\n",
       "      <th>region</th>\n",
       "      <th>latitude</th>\n",
       "      <th>longitude</th>\n",
       "      <th>launch_attempts</th>\n",
       "      <th>launch_successes</th>\n",
       "      <th>status</th>\n",
       "    </tr>\n",
       "  </thead>\n",
       "  <tbody>\n",
       "    <tr>\n",
       "      <th>0</th>\n",
       "      <td>VAFB SLC 3W</td>\n",
       "      <td>Vandenberg Space Force Base Space Launch Complex 3W</td>\n",
       "      <td>Vandenberg Space Force Base</td>\n",
       "      <td>California</td>\n",
       "      <td>34.644090</td>\n",
       "      <td>-120.593144</td>\n",
       "      <td>0</td>\n",
       "      <td>0</td>\n",
       "      <td>retired</td>\n",
       "    </tr>\n",
       "    <tr>\n",
       "      <th>1</th>\n",
       "      <td>CCSFS SLC 40</td>\n",
       "      <td>Cape Canaveral Space Force Station Space Launch Complex 40</td>\n",
       "      <td>Cape Canaveral</td>\n",
       "      <td>Florida</td>\n",
       "      <td>28.561857</td>\n",
       "      <td>-80.577366</td>\n",
       "      <td>99</td>\n",
       "      <td>97</td>\n",
       "      <td>active</td>\n",
       "    </tr>\n",
       "    <tr>\n",
       "      <th>2</th>\n",
       "      <td>STLS</td>\n",
       "      <td>SpaceX South Texas Launch Site</td>\n",
       "      <td>Boca Chica Village</td>\n",
       "      <td>Texas</td>\n",
       "      <td>25.997264</td>\n",
       "      <td>-97.156085</td>\n",
       "      <td>0</td>\n",
       "      <td>0</td>\n",
       "      <td>under construction</td>\n",
       "    </tr>\n",
       "    <tr>\n",
       "      <th>3</th>\n",
       "      <td>Kwajalein Atoll</td>\n",
       "      <td>Kwajalein Atoll Omelek Island</td>\n",
       "      <td>Omelek Island</td>\n",
       "      <td>Marshall Islands</td>\n",
       "      <td>9.047721</td>\n",
       "      <td>167.743129</td>\n",
       "      <td>5</td>\n",
       "      <td>2</td>\n",
       "      <td>retired</td>\n",
       "    </tr>\n",
       "    <tr>\n",
       "      <th>4</th>\n",
       "      <td>VAFB SLC 4E</td>\n",
       "      <td>Vandenberg Space Force Base Space Launch Complex 4E</td>\n",
       "      <td>Vandenberg Space Force Base</td>\n",
       "      <td>California</td>\n",
       "      <td>34.632093</td>\n",
       "      <td>-120.610829</td>\n",
       "      <td>28</td>\n",
       "      <td>27</td>\n",
       "      <td>active</td>\n",
       "    </tr>\n",
       "    <tr>\n",
       "      <th>5</th>\n",
       "      <td>KSC LC 39A</td>\n",
       "      <td>Kennedy Space Center Historic Launch Complex 39A</td>\n",
       "      <td>Cape Canaveral</td>\n",
       "      <td>Florida</td>\n",
       "      <td>28.608058</td>\n",
       "      <td>-80.603956</td>\n",
       "      <td>55</td>\n",
       "      <td>55</td>\n",
       "      <td>active</td>\n",
       "    </tr>\n",
       "  </tbody>\n",
       "</table>\n",
       "</div>"
      ],
      "text/plain": [
       "              name  \\\n",
       "0      VAFB SLC 3W   \n",
       "1     CCSFS SLC 40   \n",
       "2             STLS   \n",
       "3  Kwajalein Atoll   \n",
       "4      VAFB SLC 4E   \n",
       "5       KSC LC 39A   \n",
       "\n",
       "                                                    full_name  \\\n",
       "0         Vandenberg Space Force Base Space Launch Complex 3W   \n",
       "1  Cape Canaveral Space Force Station Space Launch Complex 40   \n",
       "2                              SpaceX South Texas Launch Site   \n",
       "3                               Kwajalein Atoll Omelek Island   \n",
       "4         Vandenberg Space Force Base Space Launch Complex 4E   \n",
       "5            Kennedy Space Center Historic Launch Complex 39A   \n",
       "\n",
       "                      locality            region   latitude   longitude  \\\n",
       "0  Vandenberg Space Force Base        California  34.644090 -120.593144   \n",
       "1               Cape Canaveral           Florida  28.561857  -80.577366   \n",
       "2           Boca Chica Village             Texas  25.997264  -97.156085   \n",
       "3                Omelek Island  Marshall Islands   9.047721  167.743129   \n",
       "4  Vandenberg Space Force Base        California  34.632093 -120.610829   \n",
       "5               Cape Canaveral           Florida  28.608058  -80.603956   \n",
       "\n",
       "   launch_attempts  launch_successes              status  \n",
       "0                0                 0             retired  \n",
       "1               99                97              active  \n",
       "2                0                 0  under construction  \n",
       "3                5                 2             retired  \n",
       "4               28                27              active  \n",
       "5               55                55              active  "
      ]
     },
     "execution_count": 7,
     "metadata": {},
     "output_type": "execute_result"
    }
   ],
   "source": [
    "# syntax for datafr.drop(labels=None, *, axis=0, index=None, columns=None, level=None, inplace=False, errors='raise')\n",
    "\n",
    "data.drop(labels=['launches','rockets','id', 'timezone'], axis=1, inplace=True)\n",
    "data.drop(['details'], axis='columns', inplace=True)  # axis can be 0/'index' or 1/'columns'\n",
    "data.drop(columns=['images.large'], inplace=True)     # can skip both labels= (1st param) and axis, to specify rows/columns=[list]\n",
    "\n",
    "# Get the head of the dataframe (Actually only 6 rows!)\n",
    "data.head(10)"
   ]
  },
  {
   "cell_type": "code",
   "execution_count": 8,
   "metadata": {},
   "outputs": [],
   "source": [
    "# Print launch data - filename is parallel to that of Lab 3.1\n",
    "data.to_csv('spacex_launch_geo_enriched.csv', index = False)"
   ]
  }
 ],
 "metadata": {
  "kernelspec": {
   "display_name": "Python 3 (ipykernel)",
   "language": "python",
   "name": "python3"
  },
  "language_info": {
   "codemirror_mode": {
    "name": "ipython",
    "version": 3
   },
   "file_extension": ".py",
   "mimetype": "text/x-python",
   "name": "python",
   "nbconvert_exporter": "python",
   "pygments_lexer": "ipython3",
   "version": "3.11.8"
  },
  "prev_pub_hash": "92824028eda7944e05c2baeff74c9c993a71bef91bed7cfa139749fe49c6405a"
 },
 "nbformat": 4,
 "nbformat_minor": 4
}
